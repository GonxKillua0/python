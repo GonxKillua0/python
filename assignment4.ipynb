{
  "nbformat": 4,
  "nbformat_minor": 0,
  "metadata": {
    "colab": {
      "provenance": [],
      "authorship_tag": "ABX9TyO0UA3btH1ZEurweQfy3XJa",
      "include_colab_link": true
    },
    "kernelspec": {
      "name": "python3",
      "display_name": "Python 3"
    },
    "language_info": {
      "name": "python"
    }
  },
  "cells": [
    {
      "cell_type": "markdown",
      "metadata": {
        "id": "view-in-github",
        "colab_type": "text"
      },
      "source": [
        "<a href=\"https://colab.research.google.com/github/GonxKillua0/python/blob/main/assignment4.ipynb\" target=\"_parent\"><img src=\"https://colab.research.google.com/assets/colab-badge.svg\" alt=\"Open In Colab\"/></a>"
      ]
    },
    {
      "cell_type": "code",
      "execution_count": null,
      "metadata": {
        "colab": {
          "base_uri": "https://localhost:8080/"
        },
        "id": "GRapFIwh89_T",
        "outputId": "a608bdba-8034-420c-da97-689ed09a462f"
      },
      "outputs": [
        {
          "output_type": "stream",
          "name": "stdout",
          "text": [
            "Mode = 34\n"
          ]
        }
      ],
      "source": [
        "\n",
        "#Problem 1\n",
        "'''Another measure of average\n",
        "Mode is defined as the value that appears most often in a set of data values. Mode corresponds to the most frequent value.\n",
        "You are given a list of numbers and you need to calculate the mode of this list'''\n",
        "\n",
        "\n",
        "\n",
        "temperatures = [34, 40, 29, 33, 42, 40, 39, 34, 34,33 ]\n",
        "mode = max(temperatures,key=temperatures.count)\n",
        "print(f\"Mode = {mode}\")"
      ]
    },
    {
      "cell_type": "code",
      "source": [
        "#Problem 2\n",
        "'''Challenging the immutability of tuples\n",
        "You are given a list of tuples. You need to replace the last element of the last tuple'''\n",
        "\n",
        "\n",
        "\n",
        "list_of_tuples = [(10,20,30),(30,40,50),(50,60,70)]\n",
        "#convert last tuple in list\n",
        "last_tuple = list(list_of_tuples[-1])\n",
        "last_tuple[-1]=100\n",
        "list_of_tuples[-1]=tuple(last_tuple)\n",
        "print(list_of_tuples)"
      ],
      "metadata": {
        "colab": {
          "base_uri": "https://localhost:8080/"
        },
        "id": "mtGKtCgUTG-Y",
        "outputId": "0d36bcc2-fa92-4746-8675-81b701995770"
      },
      "execution_count": null,
      "outputs": [
        {
          "output_type": "stream",
          "name": "stdout",
          "text": [
            "[(10, 20, 30), (30, 40, 50), (50, 60, 100)]\n"
          ]
        }
      ]
    },
    {
      "cell_type": "code",
      "source": [
        "#Prolem 4\n",
        "\n",
        "employee_dict = {'Name':'Sanket','Skills':['Python','Machine Learning','Deep Learning'],'Band':6.0,\n",
        "                 'Promotion Year':[2016,2018,2020]}\n",
        "\n",
        "if 'employee_id' in 'employee_dict':\n",
        "  del employee_dict['employee_id']\n",
        "else:\n",
        "  employee_dict['employee_id']=4503233\n",
        "\n",
        "if 'band' in employee_dict:\n",
        "  del employee_dict['band']\n",
        "else:\n",
        "  print('not present')\n",
        "\n",
        "print(employee_dict)\n"
      ],
      "metadata": {
        "colab": {
          "base_uri": "https://localhost:8080/"
        },
        "id": "dcBwVsTdVPYf",
        "outputId": "b0f6f536-79c3-46e0-8c91-9e5b2ec57d83"
      },
      "execution_count": null,
      "outputs": [
        {
          "output_type": "stream",
          "name": "stdout",
          "text": [
            "not present\n",
            "{'Name': 'Sanket', 'Skills': ['Python', 'Machine Learning', 'Deep Learning'], 'Band': 6.0, 'Promotion Year': [2016, 2018, 2020], 'employee_id': 4503233}\n"
          ]
        }
      ]
    }
  ]
}