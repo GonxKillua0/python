{
  "nbformat": 4,
  "nbformat_minor": 0,
  "metadata": {
    "colab": {
      "provenance": [],
      "authorship_tag": "ABX9TyOf2XAOBipbpiUrhJNhKb3x",
      "include_colab_link": true
    },
    "kernelspec": {
      "name": "python3",
      "display_name": "Python 3"
    },
    "language_info": {
      "name": "python"
    }
  },
  "cells": [
    {
      "cell_type": "markdown",
      "metadata": {
        "id": "view-in-github",
        "colab_type": "text"
      },
      "source": [
        "<a href=\"https://colab.research.google.com/github/GonxKillua0/python/blob/main/assignment5.ipynb\" target=\"_parent\"><img src=\"https://colab.research.google.com/assets/colab-badge.svg\" alt=\"Open In Colab\"/></a>"
      ]
    },
    {
      "cell_type": "code",
      "execution_count": null,
      "metadata": {
        "colab": {
          "base_uri": "https://localhost:8080/"
        },
        "id": "kRMWyJsuYj_c",
        "outputId": "f06bec2c-9237-48f6-85c5-534089bb2f26"
      },
      "outputs": [
        {
          "output_type": "stream",
          "name": "stdout",
          "text": [
            "{0: ' ', 1: 'a', 2: 'b', 3: 'c', 4: 'd', 5: 'e', 6: 'f', 7: 'g', 8: 'h', 9: 'i', 10: 'j', 11: 'k', 12: 'l', 13: 'm', 14: 'n', 15: 'o', 16: 'p', 17: 'q', 18: 'r', 19: 's', 20: 't', 21: 'u', 22: 'v', 23: 'w', 24: 'x', 25: 'y', 26: 'z'}\n"
          ]
        }
      ],
      "source": [
        "#Problem 1\n",
        "\n",
        "\n",
        "list_of_numbers = list(range(27))\n",
        "\n",
        "# Create the list of alphabets\n",
        "alphabets = \" ,a,b,c,d,e,f,g,h,i,j,k,l,m,n,o,p,q,r,s,t,u,v,w,x,y,z\"\n",
        "alphabets = alphabets.split(',')\n",
        "final = dict(zip(list_of_numbers,alphabets))\n",
        "\n",
        "print(final)"
      ]
    },
    {
      "cell_type": "code",
      "source": [
        "#Problem 2\n",
        "\n",
        "encrypted_message = (\"ajsuydtbe\", \"\", \"wunjbfusnjrgut\", \"uhbhr\", \"oirun\", \"lpef\", \"\", \"vhejsibr\", \"ydtse\", \"qlvuusrntuos\", \"ijwlbutybhlsoaxh\")\n",
        "for i in encrypted_message:\n",
        "  print(len(i))"
      ],
      "metadata": {
        "colab": {
          "base_uri": "https://localhost:8080/"
        },
        "id": "1MbnKuHFZZ4K",
        "outputId": "3181c3bd-cc13-445c-b3aa-f526fa056f32"
      },
      "execution_count": null,
      "outputs": [
        {
          "output_type": "stream",
          "name": "stdout",
          "text": [
            "9\n",
            "0\n",
            "14\n",
            "5\n",
            "5\n",
            "4\n",
            "0\n",
            "8\n",
            "5\n",
            "12\n",
            "16\n"
          ]
        }
      ]
    },
    {
      "cell_type": "code",
      "source": [
        "#Problem 4\n",
        "\n",
        "perfect_number_candidate = int(input())\n",
        "\n",
        "sum_of_divisors = 0\n",
        "for i in range(1,perfect_number_candidate):\n",
        "  if perfect_number_candidate % i == 0:\n",
        "    sum_of_divisors += i\n",
        "\n",
        "if sum_of_divisors==perfect_number_candidate:\n",
        "  print(f\"{perfect_number_candidate} is perfect.\")\n",
        "else:\n",
        "  print(\"no\")"
      ],
      "metadata": {
        "colab": {
          "base_uri": "https://localhost:8080/"
        },
        "id": "AIrepPe6bfU9",
        "outputId": "88fa8bc7-6946-42f7-a2ec-fcb0c3990fad"
      },
      "execution_count": null,
      "outputs": [
        {
          "output_type": "stream",
          "name": "stdout",
          "text": [
            "28\n",
            "28 is perfect.\n"
          ]
        }
      ]
    }
  ]
}