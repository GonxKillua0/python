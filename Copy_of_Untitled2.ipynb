{
  "nbformat": 4,
  "nbformat_minor": 0,
  "metadata": {
    "colab": {
      "provenance": [],
      "authorship_tag": "ABX9TyOF900OopOj2qC8qBIwZXnq",
      "include_colab_link": true
    },
    "kernelspec": {
      "name": "python3",
      "display_name": "Python 3"
    },
    "language_info": {
      "name": "python"
    }
  },
  "cells": [
    {
      "cell_type": "markdown",
      "metadata": {
        "id": "view-in-github",
        "colab_type": "text"
      },
      "source": [
        "<a href=\"https://colab.research.google.com/github/GonxKillua0/python/blob/main/Copy_of_Untitled2.ipynb\" target=\"_parent\"><img src=\"https://colab.research.google.com/assets/colab-badge.svg\" alt=\"Open In Colab\"/></a>"
      ]
    },
    {
      "cell_type": "code",
      "execution_count": null,
      "metadata": {
        "colab": {
          "base_uri": "https://localhost:8080/"
        },
        "id": "fQrV8hix2j02",
        "outputId": "fad75e2f-64a7-4cc4-ae62-ad659298db2e"
      },
      "outputs": [
        {
          "output_type": "stream",
          "name": "stdout",
          "text": [
            "20\n"
          ]
        }
      ],
      "source": [
        "#problem 1\n",
        "\n",
        "sentence = \"Wikipedia is a free online encyclopedia, created and edited by volunteers around the world and hosted by the Wikimedia Foundation.\"\n",
        "sentence.count(\" \") + 1\n",
        "          #or\n",
        "num_of_words = sentence.count(\" \") + 1\n",
        "print(num_of_words)"
      ]
    },
    {
      "cell_type": "code",
      "source": [
        "#Problem 2\n",
        "\n",
        "inputted_number = 10\n",
        "inputed_str = inputted_number*' _ '\n",
        "print(inputed_str)"
      ],
      "metadata": {
        "colab": {
          "base_uri": "https://localhost:8080/"
        },
        "id": "Hvb62jZ-4-aV",
        "outputId": "60c57f33-378c-458e-ffac-e1132033313b"
      },
      "execution_count": null,
      "outputs": [
        {
          "output_type": "stream",
          "name": "stdout",
          "text": [
            " _  _  _  _  _  _  _  _  _  _ \n"
          ]
        }
      ]
    },
    {
      "cell_type": "code",
      "source": [
        "#problem 3\n",
        "\n",
        "bridge = 'rajni jskdfhdjks'\n",
        "\n",
        "if bridge.find(' ')==-1:\n",
        "   print(True)\n",
        "else:\n",
        "   print(False)"
      ],
      "metadata": {
        "colab": {
          "base_uri": "https://localhost:8080/"
        },
        "id": "F12cKS8u5k3m",
        "outputId": "912d16cf-9c60-476a-cf5b-fad64b1d4c55"
      },
      "execution_count": null,
      "outputs": [
        {
          "output_type": "stream",
          "name": "stdout",
          "text": [
            "False\n"
          ]
        }
      ]
    },
    {
      "cell_type": "code",
      "source": [
        "#Problem 4\n",
        "\n",
        "user_string = 'Debris was scattered all over the place in the densest region of Denmark'\n",
        "countd = user_string.lower().count('d')\n",
        "print(countd)\n"
      ],
      "metadata": {
        "colab": {
          "base_uri": "https://localhost:8080/"
        },
        "id": "kURmLuxL7CoY",
        "outputId": "32a99699-fad9-4fb5-bcc9-6807d9bdd545"
      },
      "execution_count": null,
      "outputs": [
        {
          "output_type": "execute_result",
          "data": {
            "text/plain": [
              "2"
            ]
          },
          "metadata": {},
          "execution_count": 23
        }
      ]
    },
    {
      "cell_type": "code",
      "source": [
        "#Problem 5\n",
        "\n",
        "user_string = 'madam'\n",
        "pallindrome = user_string==user_string[::-1]\n",
        "print(pallindrome)"
      ],
      "metadata": {
        "colab": {
          "base_uri": "https://localhost:8080/"
        },
        "id": "B_7ehkal-qGp",
        "outputId": "19efa5d4-7c55-478c-91fb-9de5b8ee97ae"
      },
      "execution_count": null,
      "outputs": [
        {
          "output_type": "stream",
          "name": "stdout",
          "text": [
            "True\n"
          ]
        }
      ]
    }
  ]
}