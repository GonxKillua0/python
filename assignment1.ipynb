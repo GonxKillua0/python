{
  "nbformat": 4,
  "nbformat_minor": 0,
  "metadata": {
    "colab": {
      "provenance": [],
      "authorship_tag": "ABX9TyNQxdT+az/QYE3lMIforwE+",
      "include_colab_link": true
    },
    "kernelspec": {
      "name": "python3",
      "display_name": "Python 3"
    },
    "language_info": {
      "name": "python"
    }
  },
  "cells": [
    {
      "cell_type": "markdown",
      "metadata": {
        "id": "view-in-github",
        "colab_type": "text"
      },
      "source": [
        "<a href=\"https://colab.research.google.com/github/GonxKillua0/python/blob/main/assignment1.ipynb\" target=\"_parent\"><img src=\"https://colab.research.google.com/assets/colab-badge.svg\" alt=\"Open In Colab\"/></a>"
      ]
    },
    {
      "cell_type": "code",
      "execution_count": null,
      "metadata": {
        "colab": {
          "base_uri": "https://localhost:8080/"
        },
        "id": "ZeVhXdScxLxm",
        "outputId": "d30c58d5-8287-41b8-ad7a-8e5fa7ef7222"
      },
      "outputs": [
        {
          "output_type": "stream",
          "name": "stdout",
          "text": [
            "19\n"
          ]
        }
      ],
      "source": [
        "#Problem 1\n",
        "\n",
        "win = 3\n",
        "draw =  2\n",
        "losses = 0\n",
        "\n",
        "wins = 5\n",
        "draws = 2\n",
        "loss = 3\n",
        "\n",
        "total_points =(win*wins)+(draw*draws)+(losses*loss)\n",
        "print(total_points)"
      ]
    },
    {
      "cell_type": "code",
      "source": [
        "#Problem 2\n",
        "\n",
        "x = 3\n",
        "three = (x)**2+3*(x)-4\n",
        "print(three)"
      ],
      "metadata": {
        "colab": {
          "base_uri": "https://localhost:8080/"
        },
        "id": "fP0rcpMCxvLb",
        "outputId": "df6cd633-0197-4bd7-ce2f-719b94ee7024"
      },
      "execution_count": null,
      "outputs": [
        {
          "output_type": "stream",
          "name": "stdout",
          "text": [
            "14\n"
          ]
        }
      ]
    },
    {
      "cell_type": "code",
      "source": [
        "\n",
        "x = -1\n",
        "n_one = (x)**2+3*(x)-4\n",
        "print(n_one)"
      ],
      "metadata": {
        "colab": {
          "base_uri": "https://localhost:8080/"
        },
        "id": "omj8vfHsykfP",
        "outputId": "061f6477-ba8f-4689-a6d2-12e54de97021"
      },
      "execution_count": null,
      "outputs": [
        {
          "output_type": "stream",
          "name": "stdout",
          "text": [
            "-6\n"
          ]
        }
      ]
    },
    {
      "cell_type": "code",
      "source": [
        "\n",
        "x = 1\n",
        "one = (x)**2+3*(x)-4\n",
        "print(one)"
      ],
      "metadata": {
        "colab": {
          "base_uri": "https://localhost:8080/"
        },
        "id": "OIV-BjZGyz9P",
        "outputId": "56b8c654-10ec-4fe1-a77d-c6c031aa97ab"
      },
      "execution_count": null,
      "outputs": [
        {
          "output_type": "stream",
          "name": "stdout",
          "text": [
            "0\n"
          ]
        }
      ]
    },
    {
      "cell_type": "code",
      "source": [
        "# check if x=3,-1,1  are root\n",
        "\n",
        "def f(x):\n",
        "     return  (x)**2+3*(x)-4\n",
        "print(f(3)==0)\n",
        "print(f(-1)==0)\n",
        "print(f(1)==0)"
      ],
      "metadata": {
        "colab": {
          "base_uri": "https://localhost:8080/"
        },
        "id": "1em8nMnZy_AK",
        "outputId": "0355a85c-7ee5-43a5-891d-a4e303303c83"
      },
      "execution_count": null,
      "outputs": [
        {
          "output_type": "stream",
          "name": "stdout",
          "text": [
            "False\n",
            "False\n",
            "True\n"
          ]
        }
      ]
    },
    {
      "cell_type": "code",
      "source": [
        "#Problem 3\n",
        "\n",
        "apples = 45\n",
        "oranges = 65\n",
        "bananas = 30\n",
        "\n",
        "apple_perc=(100*apples)/(apples+oranges+bananas)\n",
        "oranges_perc=(100*oranges)/(apples+oranges+bananas)\n",
        "bananas_perc=(100*bananas)/(apples+oranges+bananas)\n",
        "\n",
        "print(apple_perc)\n",
        "print(oranges_perc)\n",
        "print(bananas_perc)"
      ],
      "metadata": {
        "colab": {
          "base_uri": "https://localhost:8080/"
        },
        "id": "RA9j9VUh0jct",
        "outputId": "b6c50aee-863b-4ff0-94fc-481894c31cc6"
      },
      "execution_count": null,
      "outputs": [
        {
          "output_type": "stream",
          "name": "stdout",
          "text": [
            "32.142857142857146\n",
            "46.42857142857143\n",
            "21.428571428571427\n"
          ]
        }
      ]
    }
  ]
}